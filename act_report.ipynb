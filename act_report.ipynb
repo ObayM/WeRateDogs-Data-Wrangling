{
 "cells": [
  {
   "cell_type": "markdown",
   "metadata": {},
   "source": [
    "## EDA\n",
    "\n",
    "\n",
    "1. Trend in Average Favorites per Year (2015-2017):\n",
    "   The statement that \"The average number of favorites per year has increased from 2015 to 2017\" is an interesting observation, but it's important to be cautious about the conclusion drawn. Let's break this down:\n",
    "   \n",
    "   - There is indeed an upward trend in the average number of favorites per tweet from 2015 to 2017.\n",
    "   - However, attributing this increase solely to \"better content\" may be an oversimplification. Several factors could contribute to this trend:\n",
    "     a) Improved content quality\n",
    "     b) Changes in Twitter's algorithm for displaying tweets\n",
    "     c) Growth in the user base or engagement levels\n",
    "     d) Shifts in user behavior or platform features\n",
    "   - To make a more robust conclusion, we'd need to analyze additional metrics and possibly conduct statistical tests to confirm the significance of this trend.\n",
    "\n",
    "2. Distribution of Ratings:\n",
    "   The observation that \"Most of the ratings are more than 10\" provides some insight into the rating distribution, but we can expand on this:\n",
    "   \n",
    "   - This suggests a right-skewed distribution of ratings, with a concentration above the 10-point mark.\n",
    "   - It would be helpful to know the rating scale (e.g., out of 5, 10, or 100) to better contextualize this information.\n",
    "   - Additional statistics like the median, mode, and quartiles would provide a more comprehensive view of the rating distribution.\n",
    "   - We might also want to investigate if there are any patterns in these higher ratings, such as correlations with specific types of content or time periods.\n",
    "\n",
    "3. Tweet Volume by Year:\n",
    "   Let's break down the observations about tweet volumes in 2016 and 2017:\n",
    "\n",
    "   a) 2016: Highest number of tweets\n",
    "      - This spike in tweet volume could be due to various factors:\n",
    "        - Major events or trending topics that year\n",
    "        - Changes in Twitter's user base or engagement strategies\n",
    "        - Possible data collection biases\n",
    "      - It would be interesting to examine month-by-month data to see if there were specific periods driving this high volume.\n",
    "\n",
    "   b) 2017: Lowest number of tweets\n",
    "      - The decrease in tweet volume from 2016 to 2017 is noteworthy:\n",
    "        - This could indicate a change in user behavior, platform algorithms, or external factors affecting Twitter usage.\n",
    "        - It's important to consider whether this is part of a longer-term trend or an isolated occurrence.\n",
    "        - Investigating the types of tweets (e.g., original posts vs. retweets) might provide additional context.\n",
    "\n"
   ]
  },
  {
   "cell_type": "markdown",
   "metadata": {},
   "source": []
  }
 ],
 "metadata": {
  "language_info": {
   "name": "python"
  }
 },
 "nbformat": 4,
 "nbformat_minor": 2
}
